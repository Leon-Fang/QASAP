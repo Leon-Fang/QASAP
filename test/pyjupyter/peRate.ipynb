{
 "cells": [
  {
   "cell_type": "code",
   "execution_count": 1,
   "id": "wicked-junction",
   "metadata": {},
   "outputs": [],
   "source": [
    "from pyecharts.charts import Bar\n",
    "import pandas as pd\n",
    "import numpy as np\n",
    "import math"
   ]
  },
  {
   "cell_type": "code",
   "execution_count": 41,
   "id": "solar-penguin",
   "metadata": {},
   "outputs": [],
   "source": [
    "df = pd.read_csv('instance.csv')\n",
    "PI = df[df['InstanceName'].str.contains('run5SerialMockService',regex=False)]\n",
    "df = pd.read_csv('step.csv').set_index('InstanceId')\n",
    "ST = df.loc[PI['InstanceId']].dropna(subset=['StepName']).reset_index()"
   ]
  },
  {
   "cell_type": "code",
   "execution_count": 32,
   "id": "healthy-retail",
   "metadata": {},
   "outputs": [
    {
     "data": {
      "text/html": [
       "<div>\n",
       "<style scoped>\n",
       "    .dataframe tbody tr th:only-of-type {\n",
       "        vertical-align: middle;\n",
       "    }\n",
       "\n",
       "    .dataframe tbody tr th {\n",
       "        vertical-align: top;\n",
       "    }\n",
       "\n",
       "    .dataframe thead th {\n",
       "        text-align: right;\n",
       "    }\n",
       "</style>\n",
       "<table border=\"1\" class=\"dataframe\">\n",
       "  <thead>\n",
       "    <tr style=\"text-align: right;\">\n",
       "      <th></th>\n",
       "      <th>InstanceId</th>\n",
       "      <th>InstanceName</th>\n",
       "      <th>StartTime</th>\n",
       "      <th>EndTime</th>\n",
       "      <th>Duration</th>\n",
       "      <th>FailureTime</th>\n",
       "      <th>Status</th>\n",
       "    </tr>\n",
       "  </thead>\n",
       "  <tbody>\n",
       "    <tr>\n",
       "      <th>0</th>\n",
       "      <td>00da1abe-c9e1-42b5-8a0d-329c12234be8</td>\n",
       "      <td>run5SerialMockService#78529</td>\n",
       "      <td>2021-01-30T08:20:10.907Z</td>\n",
       "      <td>2021-01-30T08:20:16.935Z</td>\n",
       "      <td>6028</td>\n",
       "      <td>NaN</td>\n",
       "      <td>COMPLETED</td>\n",
       "    </tr>\n",
       "    <tr>\n",
       "      <th>1</th>\n",
       "      <td>03a06c36-7848-4fca-b358-00d080511236</td>\n",
       "      <td>run5SerialMockService#78678</td>\n",
       "      <td>2021-01-30T08:25:27.827Z</td>\n",
       "      <td>2021-01-30T08:25:31.999Z</td>\n",
       "      <td>4172</td>\n",
       "      <td>NaN</td>\n",
       "      <td>COMPLETED</td>\n",
       "    </tr>\n",
       "    <tr>\n",
       "      <th>2</th>\n",
       "      <td>044b9d78-74c8-4add-bc93-5133fc39624e</td>\n",
       "      <td>run5SerialMockService#78569</td>\n",
       "      <td>2021-01-30T08:21:35.886Z</td>\n",
       "      <td>2021-01-30T08:21:40.149Z</td>\n",
       "      <td>4263</td>\n",
       "      <td>NaN</td>\n",
       "      <td>COMPLETED</td>\n",
       "    </tr>\n",
       "    <tr>\n",
       "      <th>3</th>\n",
       "      <td>04d50f49-f3b5-4045-bd3f-80943fa745ee</td>\n",
       "      <td>run5SerialMockService#78571</td>\n",
       "      <td>2021-01-30T08:21:35.886Z</td>\n",
       "      <td>2021-01-30T08:21:40.951Z</td>\n",
       "      <td>5065</td>\n",
       "      <td>NaN</td>\n",
       "      <td>COMPLETED</td>\n",
       "    </tr>\n",
       "    <tr>\n",
       "      <th>4</th>\n",
       "      <td>0514c678-922a-4e45-a684-7929f76b0098</td>\n",
       "      <td>run5SerialMockService#78677</td>\n",
       "      <td>2021-01-30T08:25:27.818Z</td>\n",
       "      <td>2021-01-30T08:25:32.033Z</td>\n",
       "      <td>4215</td>\n",
       "      <td>NaN</td>\n",
       "      <td>COMPLETED</td>\n",
       "    </tr>\n",
       "  </tbody>\n",
       "</table>\n",
       "</div>"
      ],
      "text/plain": [
       "                             InstanceId                 InstanceName  \\\n",
       "0  00da1abe-c9e1-42b5-8a0d-329c12234be8  run5SerialMockService#78529   \n",
       "1  03a06c36-7848-4fca-b358-00d080511236  run5SerialMockService#78678   \n",
       "2  044b9d78-74c8-4add-bc93-5133fc39624e  run5SerialMockService#78569   \n",
       "3  04d50f49-f3b5-4045-bd3f-80943fa745ee  run5SerialMockService#78571   \n",
       "4  0514c678-922a-4e45-a684-7929f76b0098  run5SerialMockService#78677   \n",
       "\n",
       "                  StartTime                   EndTime  Duration  FailureTime  \\\n",
       "0  2021-01-30T08:20:10.907Z  2021-01-30T08:20:16.935Z      6028          NaN   \n",
       "1  2021-01-30T08:25:27.827Z  2021-01-30T08:25:31.999Z      4172          NaN   \n",
       "2  2021-01-30T08:21:35.886Z  2021-01-30T08:21:40.149Z      4263          NaN   \n",
       "3  2021-01-30T08:21:35.886Z  2021-01-30T08:21:40.951Z      5065          NaN   \n",
       "4  2021-01-30T08:25:27.818Z  2021-01-30T08:25:32.033Z      4215          NaN   \n",
       "\n",
       "      Status  \n",
       "0  COMPLETED  \n",
       "1  COMPLETED  \n",
       "2  COMPLETED  \n",
       "3  COMPLETED  \n",
       "4  COMPLETED  "
      ]
     },
     "execution_count": 32,
     "metadata": {},
     "output_type": "execute_result"
    }
   ],
   "source": [
    "PI.head()"
   ]
  },
  {
   "cell_type": "code",
   "execution_count": 50,
   "id": "imposed-naples",
   "metadata": {},
   "outputs": [
    {
     "data": {
      "text/html": [
       "<div>\n",
       "<style scoped>\n",
       "    .dataframe tbody tr th:only-of-type {\n",
       "        vertical-align: middle;\n",
       "    }\n",
       "\n",
       "    .dataframe tbody tr th {\n",
       "        vertical-align: top;\n",
       "    }\n",
       "\n",
       "    .dataframe thead th {\n",
       "        text-align: right;\n",
       "    }\n",
       "</style>\n",
       "<table border=\"1\" class=\"dataframe\">\n",
       "  <thead>\n",
       "    <tr style=\"text-align: right;\">\n",
       "      <th></th>\n",
       "      <th>Duration</th>\n",
       "    </tr>\n",
       "    <tr>\n",
       "      <th>InstanceId</th>\n",
       "      <th></th>\n",
       "    </tr>\n",
       "  </thead>\n",
       "  <tbody>\n",
       "    <tr>\n",
       "      <th>00da1abe-c9e1-42b5-8a0d-329c12234be8</th>\n",
       "      <td>745.2</td>\n",
       "    </tr>\n",
       "    <tr>\n",
       "      <th>03a06c36-7848-4fca-b358-00d080511236</th>\n",
       "      <td>735.2</td>\n",
       "    </tr>\n",
       "    <tr>\n",
       "      <th>044b9d78-74c8-4add-bc93-5133fc39624e</th>\n",
       "      <td>726.0</td>\n",
       "    </tr>\n",
       "    <tr>\n",
       "      <th>04d50f49-f3b5-4045-bd3f-80943fa745ee</th>\n",
       "      <td>735.8</td>\n",
       "    </tr>\n",
       "    <tr>\n",
       "      <th>0514c678-922a-4e45-a684-7929f76b0098</th>\n",
       "      <td>732.0</td>\n",
       "    </tr>\n",
       "    <tr>\n",
       "      <th>...</th>\n",
       "      <td>...</td>\n",
       "    </tr>\n",
       "    <tr>\n",
       "      <th>fefe6382-6117-464b-a5ed-0b01e3b76f85</th>\n",
       "      <td>728.4</td>\n",
       "    </tr>\n",
       "    <tr>\n",
       "      <th>ff31d0a3-bd25-45dd-91a2-4cd7dab5e3c6</th>\n",
       "      <td>730.6</td>\n",
       "    </tr>\n",
       "    <tr>\n",
       "      <th>ff8af166-2f60-496f-8651-26ddcae79d60</th>\n",
       "      <td>729.8</td>\n",
       "    </tr>\n",
       "    <tr>\n",
       "      <th>ffb3883b-c954-4ed5-982a-fef37f1898db</th>\n",
       "      <td>724.6</td>\n",
       "    </tr>\n",
       "    <tr>\n",
       "      <th>ffd48453-3bbb-4e69-95c1-cf4f997a32b1</th>\n",
       "      <td>728.4</td>\n",
       "    </tr>\n",
       "  </tbody>\n",
       "</table>\n",
       "<p>500 rows × 1 columns</p>\n",
       "</div>"
      ],
      "text/plain": [
       "                                      Duration\n",
       "InstanceId                                    \n",
       "00da1abe-c9e1-42b5-8a0d-329c12234be8     745.2\n",
       "03a06c36-7848-4fca-b358-00d080511236     735.2\n",
       "044b9d78-74c8-4add-bc93-5133fc39624e     726.0\n",
       "04d50f49-f3b5-4045-bd3f-80943fa745ee     735.8\n",
       "0514c678-922a-4e45-a684-7929f76b0098     732.0\n",
       "...                                        ...\n",
       "fefe6382-6117-464b-a5ed-0b01e3b76f85     728.4\n",
       "ff31d0a3-bd25-45dd-91a2-4cd7dab5e3c6     730.6\n",
       "ff8af166-2f60-496f-8651-26ddcae79d60     729.8\n",
       "ffb3883b-c954-4ed5-982a-fef37f1898db     724.6\n",
       "ffd48453-3bbb-4e69-95c1-cf4f997a32b1     728.4\n",
       "\n",
       "[500 rows x 1 columns]"
      ]
     },
     "execution_count": 50,
     "metadata": {},
     "output_type": "execute_result"
    }
   ],
   "source": [
    "StepPI=ST[ST['StepName'].str.endswith('PEMockService01')].reset_index()\n",
    "StepPI = StepPI[['InstanceId','Duration']].groupby('InstanceId').mean()\n",
    "StepPI"
   ]
  },
  {
   "cell_type": "code",
   "execution_count": 56,
   "id": "muslim-nicholas",
   "metadata": {},
   "outputs": [
    {
     "data": {
      "text/plain": [
       "InstanceId\n",
       "00da1abe-c9e1-42b5-8a0d-329c12234be8    745.2\n",
       "03a06c36-7848-4fca-b358-00d080511236    735.2\n",
       "044b9d78-74c8-4add-bc93-5133fc39624e    726.0\n",
       "04d50f49-f3b5-4045-bd3f-80943fa745ee    735.8\n",
       "0514c678-922a-4e45-a684-7929f76b0098    732.0\n",
       "                                        ...  \n",
       "fefe6382-6117-464b-a5ed-0b01e3b76f85    728.4\n",
       "ff31d0a3-bd25-45dd-91a2-4cd7dab5e3c6    730.6\n",
       "ff8af166-2f60-496f-8651-26ddcae79d60    729.8\n",
       "ffb3883b-c954-4ed5-982a-fef37f1898db    724.6\n",
       "ffd48453-3bbb-4e69-95c1-cf4f997a32b1    728.4\n",
       "Name: Duration, Length: 500, dtype: float64"
      ]
     },
     "execution_count": 56,
     "metadata": {},
     "output_type": "execute_result"
    }
   ],
   "source": [
    "serviceDuration=StepPI['Duration']\n",
    "serviceDuration"
   ]
  },
  {
   "cell_type": "code",
   "execution_count": 55,
   "id": "alternate-pharmaceutical",
   "metadata": {},
   "outputs": [
    {
     "data": {
      "text/plain": [
       "InstanceId\n",
       "00da1abe-c9e1-42b5-8a0d-329c12234be8    6028\n",
       "03a06c36-7848-4fca-b358-00d080511236    4172\n",
       "044b9d78-74c8-4add-bc93-5133fc39624e    4263\n",
       "04d50f49-f3b5-4045-bd3f-80943fa745ee    5065\n",
       "0514c678-922a-4e45-a684-7929f76b0098    4215\n",
       "                                        ... \n",
       "fefe6382-6117-464b-a5ed-0b01e3b76f85    6415\n",
       "ff31d0a3-bd25-45dd-91a2-4cd7dab5e3c6    4618\n",
       "ff8af166-2f60-496f-8651-26ddcae79d60    4282\n",
       "ffb3883b-c954-4ed5-982a-fef37f1898db    4565\n",
       "ffd48453-3bbb-4e69-95c1-cf4f997a32b1    4197\n",
       "Name: Duration, Length: 500, dtype: int64"
      ]
     },
     "execution_count": 55,
     "metadata": {},
     "output_type": "execute_result"
    }
   ],
   "source": [
    "InsDuration=PI.set_index('InstanceId')['Duration']\n",
    "InsDuration"
   ]
  },
  {
   "cell_type": "code",
   "execution_count": 59,
   "id": "common-topic",
   "metadata": {},
   "outputs": [
    {
     "data": {
      "text/plain": [
       "(count    500.000000\n",
       " mean       0.157169\n",
       " std        0.022079\n",
       " min        0.074907\n",
       " 25%        0.144520\n",
       " 50%        0.156013\n",
       " 75%        0.177817\n",
       " max        0.182969\n",
       " Name: Duration, dtype: float64,\n",
       " InstanceId\n",
       " 00da1abe-c9e1-42b5-8a0d-329c12234be8    0.123623\n",
       " 03a06c36-7848-4fca-b358-00d080511236    0.176222\n",
       " 044b9d78-74c8-4add-bc93-5133fc39624e    0.170303\n",
       " 04d50f49-f3b5-4045-bd3f-80943fa745ee    0.145271\n",
       " 0514c678-922a-4e45-a684-7929f76b0098    0.173665\n",
       "                                           ...   \n",
       " fefe6382-6117-464b-a5ed-0b01e3b76f85    0.113546\n",
       " ff31d0a3-bd25-45dd-91a2-4cd7dab5e3c6    0.158207\n",
       " ff8af166-2f60-496f-8651-26ddcae79d60    0.170434\n",
       " ffb3883b-c954-4ed5-982a-fef37f1898db    0.158729\n",
       " ffd48453-3bbb-4e69-95c1-cf4f997a32b1    0.173553\n",
       " Name: Duration, Length: 500, dtype: float64)"
      ]
     },
     "execution_count": 59,
     "metadata": {},
     "output_type": "execute_result"
    }
   ],
   "source": [
    "a = serviceDuration/InsDuration\n",
    "a.describe(),a"
   ]
  },
  {
   "cell_type": "code",
   "execution_count": 72,
   "id": "healthy-peripheral",
   "metadata": {},
   "outputs": [
    {
     "data": {
      "text/plain": [
       "0.15872946330777657"
      ]
     },
     "execution_count": 72,
     "metadata": {},
     "output_type": "execute_result"
    }
   ],
   "source": [
    "a.sort_values()\n",
    "num=math.floor(a.count()*0.999)-1\n",
    "a[num]"
   ]
  },
  {
   "cell_type": "code",
   "execution_count": null,
   "id": "addressed-brake",
   "metadata": {},
   "outputs": [],
   "source": []
  }
 ],
 "metadata": {
  "kernelspec": {
   "display_name": "Python 3",
   "language": "python",
   "name": "python3"
  },
  "language_info": {
   "codemirror_mode": {
    "name": "ipython",
    "version": 3
   },
   "file_extension": ".py",
   "mimetype": "text/x-python",
   "name": "python",
   "nbconvert_exporter": "python",
   "pygments_lexer": "ipython3",
   "version": "3.7.7"
  }
 },
 "nbformat": 4,
 "nbformat_minor": 5
}

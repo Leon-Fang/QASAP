{
 "cells": [
  {
   "cell_type": "code",
   "execution_count": 1,
   "id": "julian-decimal",
   "metadata": {},
   "outputs": [],
   "source": [
    "#coding=utf-8\n",
    "import sys\n",
    "sys.path.append(\"/Users/i536270/opt/anaconda3/envs/pywebs/lib/python3.7/site-packages\")\n",
    "\n",
    "from pyecharts.charts import Bar\n",
    "import pandas as pd\n",
    "import numpy as np\n",
    "import math"
   ]
  },
  {
   "cell_type": "code",
   "execution_count": 2,
   "id": "cooked-evolution",
   "metadata": {},
   "outputs": [
    {
     "data": {
      "text/html": [
       "<div>\n",
       "<style scoped>\n",
       "    .dataframe tbody tr th:only-of-type {\n",
       "        vertical-align: middle;\n",
       "    }\n",
       "\n",
       "    .dataframe tbody tr th {\n",
       "        vertical-align: top;\n",
       "    }\n",
       "\n",
       "    .dataframe thead th {\n",
       "        text-align: right;\n",
       "    }\n",
       "</style>\n",
       "<table border=\"1\" class=\"dataframe\">\n",
       "  <thead>\n",
       "    <tr style=\"text-align: right;\">\n",
       "      <th></th>\n",
       "      <th>InstanceId</th>\n",
       "      <th>InstanceName</th>\n",
       "      <th>StartTime</th>\n",
       "      <th>EndTime</th>\n",
       "      <th>Duration</th>\n",
       "      <th>FailureTime</th>\n",
       "      <th>Status</th>\n",
       "    </tr>\n",
       "  </thead>\n",
       "  <tbody>\n",
       "    <tr>\n",
       "      <th>0</th>\n",
       "      <td>00da1abe-c9e1-42b5-8a0d-329c12234be8</td>\n",
       "      <td>run5SerialMockService#78529</td>\n",
       "      <td>2021-01-30T08:20:10.907Z</td>\n",
       "      <td>2021-01-30T08:20:16.935Z</td>\n",
       "      <td>6028</td>\n",
       "      <td>NaN</td>\n",
       "      <td>COMPLETED</td>\n",
       "    </tr>\n",
       "    <tr>\n",
       "      <th>1</th>\n",
       "      <td>03a06c36-7848-4fca-b358-00d080511236</td>\n",
       "      <td>run5SerialMockService#78678</td>\n",
       "      <td>2021-01-30T08:25:27.827Z</td>\n",
       "      <td>2021-01-30T08:25:31.999Z</td>\n",
       "      <td>4172</td>\n",
       "      <td>NaN</td>\n",
       "      <td>COMPLETED</td>\n",
       "    </tr>\n",
       "    <tr>\n",
       "      <th>2</th>\n",
       "      <td>044b9d78-74c8-4add-bc93-5133fc39624e</td>\n",
       "      <td>run5SerialMockService#78569</td>\n",
       "      <td>2021-01-30T08:21:35.886Z</td>\n",
       "      <td>2021-01-30T08:21:40.149Z</td>\n",
       "      <td>4263</td>\n",
       "      <td>NaN</td>\n",
       "      <td>COMPLETED</td>\n",
       "    </tr>\n",
       "    <tr>\n",
       "      <th>3</th>\n",
       "      <td>04d50f49-f3b5-4045-bd3f-80943fa745ee</td>\n",
       "      <td>run5SerialMockService#78571</td>\n",
       "      <td>2021-01-30T08:21:35.886Z</td>\n",
       "      <td>2021-01-30T08:21:40.951Z</td>\n",
       "      <td>5065</td>\n",
       "      <td>NaN</td>\n",
       "      <td>COMPLETED</td>\n",
       "    </tr>\n",
       "    <tr>\n",
       "      <th>4</th>\n",
       "      <td>0514c678-922a-4e45-a684-7929f76b0098</td>\n",
       "      <td>run5SerialMockService#78677</td>\n",
       "      <td>2021-01-30T08:25:27.818Z</td>\n",
       "      <td>2021-01-30T08:25:32.033Z</td>\n",
       "      <td>4215</td>\n",
       "      <td>NaN</td>\n",
       "      <td>COMPLETED</td>\n",
       "    </tr>\n",
       "    <tr>\n",
       "      <th>...</th>\n",
       "      <td>...</td>\n",
       "      <td>...</td>\n",
       "      <td>...</td>\n",
       "      <td>...</td>\n",
       "      <td>...</td>\n",
       "      <td>...</td>\n",
       "      <td>...</td>\n",
       "    </tr>\n",
       "    <tr>\n",
       "      <th>95</th>\n",
       "      <td>2ddd8321-1339-4372-afea-1cefc6faff00</td>\n",
       "      <td>run5SerialMockService#78676</td>\n",
       "      <td>2021-01-30T08:25:27.755Z</td>\n",
       "      <td>2021-01-30T08:25:31.822Z</td>\n",
       "      <td>4067</td>\n",
       "      <td>NaN</td>\n",
       "      <td>COMPLETED</td>\n",
       "    </tr>\n",
       "    <tr>\n",
       "      <th>96</th>\n",
       "      <td>2e487e70-8702-4778-9b4a-3bac0f721446</td>\n",
       "      <td>run5SerialMockService#78975</td>\n",
       "      <td>2021-01-30T08:35:42.501Z</td>\n",
       "      <td>2021-01-30T08:35:48.774Z</td>\n",
       "      <td>6273</td>\n",
       "      <td>NaN</td>\n",
       "      <td>COMPLETED</td>\n",
       "    </tr>\n",
       "    <tr>\n",
       "      <th>97</th>\n",
       "      <td>2ec7fd7d-4ed9-4135-8061-9796cc531bb8</td>\n",
       "      <td>run5SerialMockService#78811</td>\n",
       "      <td>2021-01-30T08:30:03.510Z</td>\n",
       "      <td>2021-01-30T08:30:08.517Z</td>\n",
       "      <td>5007</td>\n",
       "      <td>NaN</td>\n",
       "      <td>COMPLETED</td>\n",
       "    </tr>\n",
       "    <tr>\n",
       "      <th>98</th>\n",
       "      <td>2f2a39b7-c6be-46eb-9049-7f2328ca828e</td>\n",
       "      <td>run5SerialMockService#78701</td>\n",
       "      <td>2021-01-30T08:26:10.171Z</td>\n",
       "      <td>2021-01-30T08:26:15.085Z</td>\n",
       "      <td>4914</td>\n",
       "      <td>NaN</td>\n",
       "      <td>COMPLETED</td>\n",
       "    </tr>\n",
       "    <tr>\n",
       "      <th>99</th>\n",
       "      <td>2f9d52b8-5fbf-474c-b2db-9e667da326ed</td>\n",
       "      <td>run5SerialMockService#78748</td>\n",
       "      <td>2021-01-30T08:27:56.091Z</td>\n",
       "      <td>2021-01-30T08:28:00.271Z</td>\n",
       "      <td>4180</td>\n",
       "      <td>NaN</td>\n",
       "      <td>COMPLETED</td>\n",
       "    </tr>\n",
       "  </tbody>\n",
       "</table>\n",
       "<p>100 rows × 7 columns</p>\n",
       "</div>"
      ],
      "text/plain": [
       "                              InstanceId                 InstanceName  \\\n",
       "0   00da1abe-c9e1-42b5-8a0d-329c12234be8  run5SerialMockService#78529   \n",
       "1   03a06c36-7848-4fca-b358-00d080511236  run5SerialMockService#78678   \n",
       "2   044b9d78-74c8-4add-bc93-5133fc39624e  run5SerialMockService#78569   \n",
       "3   04d50f49-f3b5-4045-bd3f-80943fa745ee  run5SerialMockService#78571   \n",
       "4   0514c678-922a-4e45-a684-7929f76b0098  run5SerialMockService#78677   \n",
       "..                                   ...                          ...   \n",
       "95  2ddd8321-1339-4372-afea-1cefc6faff00  run5SerialMockService#78676   \n",
       "96  2e487e70-8702-4778-9b4a-3bac0f721446  run5SerialMockService#78975   \n",
       "97  2ec7fd7d-4ed9-4135-8061-9796cc531bb8  run5SerialMockService#78811   \n",
       "98  2f2a39b7-c6be-46eb-9049-7f2328ca828e  run5SerialMockService#78701   \n",
       "99  2f9d52b8-5fbf-474c-b2db-9e667da326ed  run5SerialMockService#78748   \n",
       "\n",
       "                   StartTime                   EndTime  Duration  FailureTime  \\\n",
       "0   2021-01-30T08:20:10.907Z  2021-01-30T08:20:16.935Z      6028          NaN   \n",
       "1   2021-01-30T08:25:27.827Z  2021-01-30T08:25:31.999Z      4172          NaN   \n",
       "2   2021-01-30T08:21:35.886Z  2021-01-30T08:21:40.149Z      4263          NaN   \n",
       "3   2021-01-30T08:21:35.886Z  2021-01-30T08:21:40.951Z      5065          NaN   \n",
       "4   2021-01-30T08:25:27.818Z  2021-01-30T08:25:32.033Z      4215          NaN   \n",
       "..                       ...                       ...       ...          ...   \n",
       "95  2021-01-30T08:25:27.755Z  2021-01-30T08:25:31.822Z      4067          NaN   \n",
       "96  2021-01-30T08:35:42.501Z  2021-01-30T08:35:48.774Z      6273          NaN   \n",
       "97  2021-01-30T08:30:03.510Z  2021-01-30T08:30:08.517Z      5007          NaN   \n",
       "98  2021-01-30T08:26:10.171Z  2021-01-30T08:26:15.085Z      4914          NaN   \n",
       "99  2021-01-30T08:27:56.091Z  2021-01-30T08:28:00.271Z      4180          NaN   \n",
       "\n",
       "       Status  \n",
       "0   COMPLETED  \n",
       "1   COMPLETED  \n",
       "2   COMPLETED  \n",
       "3   COMPLETED  \n",
       "4   COMPLETED  \n",
       "..        ...  \n",
       "95  COMPLETED  \n",
       "96  COMPLETED  \n",
       "97  COMPLETED  \n",
       "98  COMPLETED  \n",
       "99  COMPLETED  \n",
       "\n",
       "[100 rows x 7 columns]"
      ]
     },
     "execution_count": 2,
     "metadata": {},
     "output_type": "execute_result"
    }
   ],
   "source": [
    "df = pd.read_csv('instance.csv').head(100)\n",
    "df"
   ]
  },
  {
   "cell_type": "code",
   "execution_count": 3,
   "id": "rocky-imperial",
   "metadata": {
    "scrolled": true
   },
   "outputs": [
    {
     "data": {
      "text/html": [
       "<div>\n",
       "<style scoped>\n",
       "    .dataframe tbody tr th:only-of-type {\n",
       "        vertical-align: middle;\n",
       "    }\n",
       "\n",
       "    .dataframe tbody tr th {\n",
       "        vertical-align: top;\n",
       "    }\n",
       "\n",
       "    .dataframe thead th {\n",
       "        text-align: right;\n",
       "    }\n",
       "</style>\n",
       "<table border=\"1\" class=\"dataframe\">\n",
       "  <thead>\n",
       "    <tr style=\"text-align: right;\">\n",
       "      <th></th>\n",
       "      <th>InstanceId</th>\n",
       "      <th>InstanceName</th>\n",
       "      <th>StartTime</th>\n",
       "      <th>EndTime</th>\n",
       "      <th>Duration</th>\n",
       "      <th>FailureTime</th>\n",
       "      <th>Status</th>\n",
       "    </tr>\n",
       "  </thead>\n",
       "  <tbody>\n",
       "    <tr>\n",
       "      <th>0</th>\n",
       "      <td>00da1abe-c9e1-42b5-8a0d-329c12234be8</td>\n",
       "      <td>run5SerialMockService#78529</td>\n",
       "      <td>2021-01-30T08:20:10.907Z</td>\n",
       "      <td>2021-01-30T08:20:16.935Z</td>\n",
       "      <td>6028</td>\n",
       "      <td>NaN</td>\n",
       "      <td>COMPLETED</td>\n",
       "    </tr>\n",
       "    <tr>\n",
       "      <th>1</th>\n",
       "      <td>03a06c36-7848-4fca-b358-00d080511236</td>\n",
       "      <td>run5SerialMockService#78678</td>\n",
       "      <td>2021-01-30T08:25:27.827Z</td>\n",
       "      <td>2021-01-30T08:25:31.999Z</td>\n",
       "      <td>4172</td>\n",
       "      <td>NaN</td>\n",
       "      <td>COMPLETED</td>\n",
       "    </tr>\n",
       "    <tr>\n",
       "      <th>2</th>\n",
       "      <td>044b9d78-74c8-4add-bc93-5133fc39624e</td>\n",
       "      <td>run5SerialMockService#78569</td>\n",
       "      <td>2021-01-30T08:21:35.886Z</td>\n",
       "      <td>2021-01-30T08:21:40.149Z</td>\n",
       "      <td>4263</td>\n",
       "      <td>NaN</td>\n",
       "      <td>COMPLETED</td>\n",
       "    </tr>\n",
       "    <tr>\n",
       "      <th>3</th>\n",
       "      <td>04d50f49-f3b5-4045-bd3f-80943fa745ee</td>\n",
       "      <td>run5SerialMockService#78571</td>\n",
       "      <td>2021-01-30T08:21:35.886Z</td>\n",
       "      <td>2021-01-30T08:21:40.951Z</td>\n",
       "      <td>5065</td>\n",
       "      <td>NaN</td>\n",
       "      <td>COMPLETED</td>\n",
       "    </tr>\n",
       "    <tr>\n",
       "      <th>4</th>\n",
       "      <td>0514c678-922a-4e45-a684-7929f76b0098</td>\n",
       "      <td>run5SerialMockService#78677</td>\n",
       "      <td>2021-01-30T08:25:27.818Z</td>\n",
       "      <td>2021-01-30T08:25:32.033Z</td>\n",
       "      <td>4215</td>\n",
       "      <td>NaN</td>\n",
       "      <td>COMPLETED</td>\n",
       "    </tr>\n",
       "  </tbody>\n",
       "</table>\n",
       "</div>"
      ],
      "text/plain": [
       "                             InstanceId                 InstanceName  \\\n",
       "0  00da1abe-c9e1-42b5-8a0d-329c12234be8  run5SerialMockService#78529   \n",
       "1  03a06c36-7848-4fca-b358-00d080511236  run5SerialMockService#78678   \n",
       "2  044b9d78-74c8-4add-bc93-5133fc39624e  run5SerialMockService#78569   \n",
       "3  04d50f49-f3b5-4045-bd3f-80943fa745ee  run5SerialMockService#78571   \n",
       "4  0514c678-922a-4e45-a684-7929f76b0098  run5SerialMockService#78677   \n",
       "\n",
       "                  StartTime                   EndTime  Duration  FailureTime  \\\n",
       "0  2021-01-30T08:20:10.907Z  2021-01-30T08:20:16.935Z      6028          NaN   \n",
       "1  2021-01-30T08:25:27.827Z  2021-01-30T08:25:31.999Z      4172          NaN   \n",
       "2  2021-01-30T08:21:35.886Z  2021-01-30T08:21:40.149Z      4263          NaN   \n",
       "3  2021-01-30T08:21:35.886Z  2021-01-30T08:21:40.951Z      5065          NaN   \n",
       "4  2021-01-30T08:25:27.818Z  2021-01-30T08:25:32.033Z      4215          NaN   \n",
       "\n",
       "      Status  \n",
       "0  COMPLETED  \n",
       "1  COMPLETED  \n",
       "2  COMPLETED  \n",
       "3  COMPLETED  \n",
       "4  COMPLETED  "
      ]
     },
     "execution_count": 3,
     "metadata": {},
     "output_type": "execute_result"
    }
   ],
   "source": [
    "pi=df[df['InstanceName'].str.contains('run5SerialMockService',regex=False)]\n",
    "pi2=df[df['InstanceName'].str.contains('ssss',regex=False)]\n",
    "pi.head()"
   ]
  },
  {
   "cell_type": "code",
   "execution_count": 4,
   "id": "musical-obligation",
   "metadata": {},
   "outputs": [
    {
     "data": {
      "text/html": [
       "\n",
       "<script>\n",
       "    require.config({\n",
       "        paths: {\n",
       "            'echarts':'https://assets.pyecharts.org/assets/echarts.min'\n",
       "        }\n",
       "    });\n",
       "</script>\n",
       "\n",
       "        <div id=\"db6a568f740d47c4b8f67db698b75cba\" style=\"width:900px; height:500px;\"></div>\n",
       "\n",
       "<script>\n",
       "        require(['echarts'], function(echarts) {\n",
       "                var chart_db6a568f740d47c4b8f67db698b75cba = echarts.init(\n",
       "                    document.getElementById('db6a568f740d47c4b8f67db698b75cba'), 'white', {renderer: 'canvas'});\n",
       "                var option_db6a568f740d47c4b8f67db698b75cba = {\n",
       "    \"animation\": true,\n",
       "    \"animationThreshold\": 2000,\n",
       "    \"animationDuration\": 1000,\n",
       "    \"animationEasing\": \"cubicOut\",\n",
       "    \"animationDelay\": 0,\n",
       "    \"animationDurationUpdate\": 300,\n",
       "    \"animationEasingUpdate\": \"cubicOut\",\n",
       "    \"animationDelayUpdate\": 0,\n",
       "    \"color\": [\n",
       "        \"#c23531\",\n",
       "        \"#2f4554\",\n",
       "        \"#61a0a8\",\n",
       "        \"#d48265\",\n",
       "        \"#749f83\",\n",
       "        \"#ca8622\",\n",
       "        \"#bda29a\",\n",
       "        \"#6e7074\",\n",
       "        \"#546570\",\n",
       "        \"#c4ccd3\",\n",
       "        \"#f05b72\",\n",
       "        \"#ef5b9c\",\n",
       "        \"#f47920\",\n",
       "        \"#905a3d\",\n",
       "        \"#fab27b\",\n",
       "        \"#2a5caa\",\n",
       "        \"#444693\",\n",
       "        \"#726930\",\n",
       "        \"#b2d235\",\n",
       "        \"#6d8346\",\n",
       "        \"#ac6767\",\n",
       "        \"#1d953f\",\n",
       "        \"#6950a1\",\n",
       "        \"#918597\"\n",
       "    ],\n",
       "    \"series\": [\n",
       "        {\n",
       "            \"type\": \"bar\",\n",
       "            \"name\": \"Instances\",\n",
       "            \"legendHoverLink\": true,\n",
       "            \"data\": [\n",
       "                6028,\n",
       "                4172,\n",
       "                4263,\n",
       "                5065,\n",
       "                4215,\n",
       "                4167,\n",
       "                5276,\n",
       "                4921,\n",
       "                4074,\n",
       "                4075,\n",
       "                6242,\n",
       "                9724,\n",
       "                6488,\n",
       "                4258,\n",
       "                5107,\n",
       "                4141,\n",
       "                4173,\n",
       "                4066,\n",
       "                4126,\n",
       "                4345,\n",
       "                4069,\n",
       "                5802,\n",
       "                4097,\n",
       "                4820,\n",
       "                4004,\n",
       "                4175,\n",
       "                6322,\n",
       "                4185,\n",
       "                4136,\n",
       "                4643,\n",
       "                5116,\n",
       "                4089,\n",
       "                4035,\n",
       "                4336,\n",
       "                4892,\n",
       "                4921,\n",
       "                5709,\n",
       "                4023,\n",
       "                4090,\n",
       "                3981,\n",
       "                5208,\n",
       "                5657,\n",
       "                4604,\n",
       "                4851,\n",
       "                4108,\n",
       "                5783,\n",
       "                4045,\n",
       "                5049,\n",
       "                4154,\n",
       "                5616,\n",
       "                4038,\n",
       "                4281,\n",
       "                4820,\n",
       "                4070,\n",
       "                4922,\n",
       "                5016,\n",
       "                4129,\n",
       "                5002,\n",
       "                4361,\n",
       "                4345,\n",
       "                5675,\n",
       "                4035,\n",
       "                4970,\n",
       "                4938,\n",
       "                4069,\n",
       "                4873,\n",
       "                4937,\n",
       "                4928,\n",
       "                4917,\n",
       "                6673,\n",
       "                4919,\n",
       "                5763,\n",
       "                4070,\n",
       "                4081,\n",
       "                5110,\n",
       "                5035,\n",
       "                4915,\n",
       "                4940,\n",
       "                4062,\n",
       "                4098,\n",
       "                4904,\n",
       "                4121,\n",
       "                4000,\n",
       "                4282,\n",
       "                4136,\n",
       "                4932,\n",
       "                4273,\n",
       "                5714,\n",
       "                4077,\n",
       "                6568,\n",
       "                5261,\n",
       "                4283,\n",
       "                4174,\n",
       "                4118,\n",
       "                5184,\n",
       "                4067,\n",
       "                6273,\n",
       "                5007,\n",
       "                4914,\n",
       "                4180\n",
       "            ],\n",
       "            \"showBackground\": false,\n",
       "            \"barMinHeight\": 0,\n",
       "            \"barCategoryGap\": \"20%\",\n",
       "            \"barGap\": \"30%\",\n",
       "            \"large\": false,\n",
       "            \"largeThreshold\": 400,\n",
       "            \"seriesLayoutBy\": \"column\",\n",
       "            \"datasetIndex\": 0,\n",
       "            \"clip\": true,\n",
       "            \"zlevel\": 0,\n",
       "            \"z\": 2,\n",
       "            \"label\": {\n",
       "                \"show\": true,\n",
       "                \"position\": \"top\",\n",
       "                \"margin\": 8\n",
       "            }\n",
       "        }\n",
       "    ],\n",
       "    \"legend\": [\n",
       "        {\n",
       "            \"data\": [\n",
       "                \"Instances\"\n",
       "            ],\n",
       "            \"selected\": {\n",
       "                \"Instances\": true\n",
       "            }\n",
       "        }\n",
       "    ],\n",
       "    \"tooltip\": {\n",
       "        \"show\": true,\n",
       "        \"trigger\": \"item\",\n",
       "        \"triggerOn\": \"mousemove|click\",\n",
       "        \"axisPointer\": {\n",
       "            \"type\": \"line\"\n",
       "        },\n",
       "        \"showContent\": true,\n",
       "        \"alwaysShowContent\": false,\n",
       "        \"showDelay\": 0,\n",
       "        \"hideDelay\": 100,\n",
       "        \"textStyle\": {\n",
       "            \"fontSize\": 14\n",
       "        },\n",
       "        \"borderWidth\": 0,\n",
       "        \"padding\": 5\n",
       "    },\n",
       "    \"xAxis\": [\n",
       "        {\n",
       "            \"show\": true,\n",
       "            \"scale\": false,\n",
       "            \"nameLocation\": \"end\",\n",
       "            \"nameGap\": 15,\n",
       "            \"gridIndex\": 0,\n",
       "            \"inverse\": false,\n",
       "            \"offset\": 0,\n",
       "            \"splitNumber\": 5,\n",
       "            \"minInterval\": 0,\n",
       "            \"splitLine\": {\n",
       "                \"show\": false,\n",
       "                \"lineStyle\": {\n",
       "                    \"show\": true,\n",
       "                    \"width\": 1,\n",
       "                    \"opacity\": 1,\n",
       "                    \"curveness\": 0,\n",
       "                    \"type\": \"solid\"\n",
       "                }\n",
       "            },\n",
       "            \"data\": [\n",
       "                \"run5SerialMockService#78529\",\n",
       "                \"run5SerialMockService#78678\",\n",
       "                \"run5SerialMockService#78569\",\n",
       "                \"run5SerialMockService#78571\",\n",
       "                \"run5SerialMockService#78677\",\n",
       "                \"run5SerialMockService#78672\",\n",
       "                \"run5SerialMockService#78963\",\n",
       "                \"run5SerialMockService#78553\",\n",
       "                \"run5SerialMockService#78756\",\n",
       "                \"run5SerialMockService#78562\",\n",
       "                \"run5SerialMockService#78895\",\n",
       "                \"run5SerialMockService#78522\",\n",
       "                \"run5SerialMockService#78634\",\n",
       "                \"run5SerialMockService#78827\",\n",
       "                \"run5SerialMockService#78740\",\n",
       "                \"run5SerialMockService#78746\",\n",
       "                \"run5SerialMockService#78556\",\n",
       "                \"run5SerialMockService#78710\",\n",
       "                \"run5SerialMockService#78874\",\n",
       "                \"run5SerialMockService#78691\",\n",
       "                \"run5SerialMockService#78648\",\n",
       "                \"run5SerialMockService#78735\",\n",
       "                \"run5SerialMockService#78990\",\n",
       "                \"run5SerialMockService#78840\",\n",
       "                \"run5SerialMockService#78709\",\n",
       "                \"run5SerialMockService#78683\",\n",
       "                \"run5SerialMockService#78765\",\n",
       "                \"run5SerialMockService#78572\",\n",
       "                \"run5SerialMockService#78981\",\n",
       "                \"run5SerialMockService#78776\",\n",
       "                \"run5SerialMockService#78637\",\n",
       "                \"run5SerialMockService#78789\",\n",
       "                \"run5SerialMockService#78831\",\n",
       "                \"run5SerialMockService#78965\",\n",
       "                \"run5SerialMockService#78539\",\n",
       "                \"run5SerialMockService#78943\",\n",
       "                \"run5SerialMockService#78520\",\n",
       "                \"run5SerialMockService#78837\",\n",
       "                \"run5SerialMockService#78526\",\n",
       "                \"run5SerialMockService#78865\",\n",
       "                \"run5SerialMockService#78880\",\n",
       "                \"run5SerialMockService#78605\",\n",
       "                \"run5SerialMockService#78938\",\n",
       "                \"run5SerialMockService#78945\",\n",
       "                \"run5SerialMockService#78516\",\n",
       "                \"run5SerialMockService#78733\",\n",
       "                \"run5SerialMockService#78544\",\n",
       "                \"run5SerialMockService#78813\",\n",
       "                \"run5SerialMockService#78992\",\n",
       "                \"run5SerialMockService#78744\",\n",
       "                \"run5SerialMockService#78758\",\n",
       "                \"run5SerialMockService#78681\",\n",
       "                \"run5SerialMockService#78844\",\n",
       "                \"run5SerialMockService#78727\",\n",
       "                \"run5SerialMockService#78913\",\n",
       "                \"run5SerialMockService#78583\",\n",
       "                \"run5SerialMockService#78682\",\n",
       "                \"run5SerialMockService#78573\",\n",
       "                \"run5SerialMockService#78948\",\n",
       "                \"run5SerialMockService#78950\",\n",
       "                \"run5SerialMockService#78723\",\n",
       "                \"run5SerialMockService#78549\",\n",
       "                \"run5SerialMockService#78619\",\n",
       "                \"run5SerialMockService#78793\",\n",
       "                \"run5SerialMockService#78704\",\n",
       "                \"run5SerialMockService#78602\",\n",
       "                \"run5SerialMockService#78909\",\n",
       "                \"run5SerialMockService#78694\",\n",
       "                \"run5SerialMockService#78576\",\n",
       "                \"run5SerialMockService#78514\",\n",
       "                \"run5SerialMockService#78565\",\n",
       "                \"run5SerialMockService#78884\",\n",
       "                \"run5SerialMockService#78915\",\n",
       "                \"run5SerialMockService#78506\",\n",
       "                \"run5SerialMockService#78750\",\n",
       "                \"run5SerialMockService#78636\",\n",
       "                \"run5SerialMockService#78836\",\n",
       "                \"run5SerialMockService#78804\",\n",
       "                \"run5SerialMockService#78785\",\n",
       "                \"run5SerialMockService#78567\",\n",
       "                \"run5SerialMockService#78590\",\n",
       "                \"run5SerialMockService#79003\",\n",
       "                \"run5SerialMockService#78546\",\n",
       "                \"run5SerialMockService#78690\",\n",
       "                \"run5SerialMockService#79002\",\n",
       "                \"run5SerialMockService#78536\",\n",
       "                \"run5SerialMockService#78900\",\n",
       "                \"run5SerialMockService#78644\",\n",
       "                \"run5SerialMockService#78966\",\n",
       "                \"run5SerialMockService#78508\",\n",
       "                \"run5SerialMockService#78958\",\n",
       "                \"run5SerialMockService#78699\",\n",
       "                \"run5SerialMockService#78687\",\n",
       "                \"run5SerialMockService#78610\",\n",
       "                \"run5SerialMockService#78761\",\n",
       "                \"run5SerialMockService#78676\",\n",
       "                \"run5SerialMockService#78975\",\n",
       "                \"run5SerialMockService#78811\",\n",
       "                \"run5SerialMockService#78701\",\n",
       "                \"run5SerialMockService#78748\"\n",
       "            ]\n",
       "        }\n",
       "    ],\n",
       "    \"yAxis\": [\n",
       "        {\n",
       "            \"show\": true,\n",
       "            \"scale\": false,\n",
       "            \"nameLocation\": \"end\",\n",
       "            \"nameGap\": 15,\n",
       "            \"gridIndex\": 0,\n",
       "            \"inverse\": false,\n",
       "            \"offset\": 0,\n",
       "            \"splitNumber\": 5,\n",
       "            \"minInterval\": 0,\n",
       "            \"splitLine\": {\n",
       "                \"show\": false,\n",
       "                \"lineStyle\": {\n",
       "                    \"show\": true,\n",
       "                    \"width\": 1,\n",
       "                    \"opacity\": 1,\n",
       "                    \"curveness\": 0,\n",
       "                    \"type\": \"solid\"\n",
       "                }\n",
       "            }\n",
       "        }\n",
       "    ]\n",
       "};\n",
       "                chart_db6a568f740d47c4b8f67db698b75cba.setOption(option_db6a568f740d47c4b8f67db698b75cba);\n",
       "        });\n",
       "    </script>\n"
      ],
      "text/plain": [
       "<pyecharts.render.display.HTML at 0x7fb5408c5610>"
      ]
     },
     "execution_count": 4,
     "metadata": {},
     "output_type": "execute_result"
    }
   ],
   "source": [
    "bar = Bar()\n",
    "bar.add_xaxis(df[\"InstanceName\"].tolist())\n",
    "bar.add_yaxis('Instances',df[\"Duration\"].tolist())\n",
    "bar.render_notebook()"
   ]
  },
  {
   "cell_type": "code",
   "execution_count": 5,
   "id": "innovative-jaguar",
   "metadata": {
    "scrolled": true
   },
   "outputs": [
    {
     "data": {
      "text/plain": [
       "0     2021-01-30T08:20:10.907Z\n",
       "1     2021-01-30T08:25:27.827Z\n",
       "2     2021-01-30T08:21:35.886Z\n",
       "3     2021-01-30T08:21:35.886Z\n",
       "4     2021-01-30T08:25:27.818Z\n",
       "                ...           \n",
       "95    2021-01-30T08:25:27.755Z\n",
       "96    2021-01-30T08:35:42.501Z\n",
       "97    2021-01-30T08:30:03.510Z\n",
       "98    2021-01-30T08:26:10.171Z\n",
       "99    2021-01-30T08:27:56.091Z\n",
       "Name: StartTime, Length: 100, dtype: object"
      ]
     },
     "execution_count": 5,
     "metadata": {},
     "output_type": "execute_result"
    }
   ],
   "source": [
    "df['StartTime']"
   ]
  },
  {
   "cell_type": "code",
   "execution_count": 6,
   "id": "color-genome",
   "metadata": {},
   "outputs": [
    {
     "data": {
      "text/plain": [
       "0    2021-01-30 08:20:10.907000+00:00\n",
       "1    2021-01-30 08:25:27.827000+00:00\n",
       "2    2021-01-30 08:21:35.886000+00:00\n",
       "3    2021-01-30 08:21:35.886000+00:00\n",
       "4    2021-01-30 08:25:27.818000+00:00\n",
       "                   ...               \n",
       "95   2021-01-30 08:25:27.755000+00:00\n",
       "96   2021-01-30 08:35:42.501000+00:00\n",
       "97   2021-01-30 08:30:03.510000+00:00\n",
       "98   2021-01-30 08:26:10.171000+00:00\n",
       "99   2021-01-30 08:27:56.091000+00:00\n",
       "Name: StartTime, Length: 100, dtype: datetime64[ns, UTC]"
      ]
     },
     "execution_count": 6,
     "metadata": {},
     "output_type": "execute_result"
    }
   ],
   "source": [
    "st = pd.to_datetime(df['StartTime'])\n",
    "st"
   ]
  },
  {
   "cell_type": "code",
   "execution_count": 7,
   "id": "acknowledged-central",
   "metadata": {},
   "outputs": [
    {
     "data": {
      "text/plain": [
       "Timestamp('2021-01-30 08:36:45.636000+0000', tz='UTC')"
      ]
     },
     "execution_count": 7,
     "metadata": {},
     "output_type": "execute_result"
    }
   ],
   "source": [
    "st.max()"
   ]
  },
  {
   "cell_type": "code",
   "execution_count": 8,
   "id": "commercial-annual",
   "metadata": {},
   "outputs": [
    {
     "data": {
      "text/plain": [
       "Timestamp('2021-01-30 08:19:29.028000+0000', tz='UTC')"
      ]
     },
     "execution_count": 8,
     "metadata": {},
     "output_type": "execute_result"
    }
   ],
   "source": [
    "st.min()"
   ]
  },
  {
   "cell_type": "code",
   "execution_count": 9,
   "id": "classical-virginia",
   "metadata": {},
   "outputs": [
    {
     "data": {
      "text/plain": [
       "Timedelta('0 days 00:17:16.608000')"
      ]
     },
     "execution_count": 9,
     "metadata": {},
     "output_type": "execute_result"
    }
   ],
   "source": [
    "td=st.max()-st.min()\n",
    "td"
   ]
  },
  {
   "cell_type": "code",
   "execution_count": 10,
   "id": "constant-allen",
   "metadata": {},
   "outputs": [
    {
     "data": {
      "text/plain": [
       "1036.608"
      ]
     },
     "execution_count": 10,
     "metadata": {},
     "output_type": "execute_result"
    }
   ],
   "source": [
    "td.total_seconds()"
   ]
  },
  {
   "cell_type": "code",
   "execution_count": 11,
   "id": "sound-invitation",
   "metadata": {},
   "outputs": [
    {
     "data": {
      "text/plain": [
       "0.09646848181762055"
      ]
     },
     "execution_count": 11,
     "metadata": {},
     "output_type": "execute_result"
    }
   ],
   "source": [
    "tps=df.shape[0]/td.total_seconds()\n",
    "tps"
   ]
  },
  {
   "cell_type": "code",
   "execution_count": 12,
   "id": "mounted-internet",
   "metadata": {},
   "outputs": [
    {
     "data": {
      "text/plain": [
       "(100, 7)"
      ]
     },
     "execution_count": 12,
     "metadata": {},
     "output_type": "execute_result"
    }
   ],
   "source": [
    "df.shape"
   ]
  },
  {
   "cell_type": "code",
   "execution_count": 13,
   "id": "nutritional-relay",
   "metadata": {},
   "outputs": [
    {
     "data": {
      "text/plain": [
       "(0     3981\n",
       " 1     4000\n",
       " 2     4004\n",
       " 3     4023\n",
       " 4     4035\n",
       "       ... \n",
       " 95    6322\n",
       " 96    6488\n",
       " 97    6568\n",
       " 98    6673\n",
       " 99    9724\n",
       " Name: Duration, Length: 100, dtype: int64,\n",
       " count     100.000000\n",
       " mean     4759.060000\n",
       " std       854.870547\n",
       " min      3981.000000\n",
       " 50%      4482.500000\n",
       " 80%      5129.600000\n",
       " 90%      5765.000000\n",
       " 95%      6275.450000\n",
       " 99%      6703.510000\n",
       " max      9724.000000\n",
       " Name: Duration, dtype: float64)"
      ]
     },
     "execution_count": 13,
     "metadata": {},
     "output_type": "execute_result"
    }
   ],
   "source": [
    "d=df['Duration'].sort_values().reset_index(drop = True)\n",
    "d,d.describe(percentiles=[.5,.8,.9,.95,.99])"
   ]
  },
  {
   "cell_type": "code",
   "execution_count": 22,
   "id": "devoted-cutting",
   "metadata": {},
   "outputs": [
    {
     "data": {
      "text/plain": [
       "({'count': 100.0,\n",
       "  'mean': 4759.06,\n",
       "  'std': 854.870547468617,\n",
       "  'min': 3981.0,\n",
       "  '50%': 4482.5,\n",
       "  '90%': 5765.0,\n",
       "  '95%': 6275.45,\n",
       "  '99%': 6703.510000000016,\n",
       "  '99.9%': 9421.951000000032,\n",
       "  'max': 9724.0},\n",
       " 4482.5)"
      ]
     },
     "execution_count": 22,
     "metadata": {},
     "output_type": "execute_result"
    }
   ],
   "source": [
    "dic = dict(d.describe(percentiles=[.9,.95,.99,.999]))\n",
    "\n",
    "dic,dic['50%']"
   ]
  },
  {
   "cell_type": "code",
   "execution_count": 23,
   "id": "offensive-delaware",
   "metadata": {},
   "outputs": [
    {
     "data": {
      "text/plain": [
       "{'count': 100.0,\n",
       " 'mean': 4759.06,\n",
       " 'std': 854.870547468617,\n",
       " 'min': 3981.0,\n",
       " '50%': 4482.5,\n",
       " '90%': 5765.0,\n",
       " '95%': 990029,\n",
       " '99%': 6703.510000000016,\n",
       " '99.9%': 9421.951000000032,\n",
       " 'max': 9724.0}"
      ]
     },
     "execution_count": 23,
     "metadata": {},
     "output_type": "execute_result"
    }
   ],
   "source": [
    "dic['95%']=990029\n",
    "dic"
   ]
  },
  {
   "cell_type": "code",
   "execution_count": 14,
   "id": "practical-truth",
   "metadata": {},
   "outputs": [
    {
     "data": {
      "text/plain": [
       "4361"
      ]
     },
     "execution_count": 14,
     "metadata": {},
     "output_type": "execute_result"
    }
   ],
   "source": [
    "cnt=d.count()\n",
    "num=math.floor(d.count()*0.5)-1\n",
    "dvalue=d[num]\n",
    "dvalue"
   ]
  },
  {
   "cell_type": "code",
   "execution_count": 26,
   "id": "wound-princess",
   "metadata": {},
   "outputs": [
    {
     "data": {
      "text/plain": [
       "{'COMPLETED': 100, 'TERMINATED': 1, 'FAILED': 1}"
      ]
     },
     "execution_count": 26,
     "metadata": {},
     "output_type": "execute_result"
    }
   ],
   "source": [
    "status=df['Status'].append(pd.Series(['FAILED','TERMINATED']),ignore_index=True)\n",
    "a =status.value_counts()\n",
    "dict(a)"
   ]
  },
  {
   "cell_type": "code",
   "execution_count": 45,
   "id": "essential-island",
   "metadata": {},
   "outputs": [
    {
     "data": {
      "text/plain": [
       "100    sdferfddfdf\n",
       "Name: InstanceName, dtype: object"
      ]
     },
     "execution_count": 45,
     "metadata": {},
     "output_type": "execute_result"
    }
   ],
   "source": [
    "c = df[['InstanceName','Status']].append(dict({'InstanceName':'sdferfddfdf','Status':'FAILED'}),ignore_index=True)\n",
    "c[c['Status'].str.contains('FAILED')]['InstanceName']"
   ]
  },
  {
   "cell_type": "code",
   "execution_count": 44,
   "id": "focused-methodology",
   "metadata": {},
   "outputs": [
    {
     "data": {
      "text/plain": [
       "Series([], Name: InstanceName, dtype: object)"
      ]
     },
     "execution_count": 44,
     "metadata": {},
     "output_type": "execute_result"
    }
   ],
   "source": [
    "\n",
    "df[df['Status'].str.contains('FAILED')]['InstanceName']"
   ]
  },
  {
   "cell_type": "code",
   "execution_count": null,
   "id": "atmospheric-virgin",
   "metadata": {},
   "outputs": [],
   "source": []
  }
 ],
 "metadata": {
  "kernelspec": {
   "display_name": "Python 3",
   "language": "python",
   "name": "python3"
  },
  "language_info": {
   "codemirror_mode": {
    "name": "ipython",
    "version": 3
   },
   "file_extension": ".py",
   "mimetype": "text/x-python",
   "name": "python",
   "nbconvert_exporter": "python",
   "pygments_lexer": "ipython3",
   "version": "3.7.7"
  }
 },
 "nbformat": 4,
 "nbformat_minor": 5
}
